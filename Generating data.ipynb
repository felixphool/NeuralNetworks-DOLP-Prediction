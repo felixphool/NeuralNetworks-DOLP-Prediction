{
 "cells": [
  {
   "cell_type": "code",
   "execution_count": 7,
   "metadata": {
    "collapsed": true,
    "ExecuteTime": {
     "start_time": "2024-04-06T12:02:09.761040Z",
     "end_time": "2024-04-06T12:03:51.425012Z"
    }
   },
   "outputs": [
    {
     "name": "stdout",
     "output_type": "stream",
     "text": [
      "DoLP for below image is 0.11505266401880926\n"
     ]
    }
   ],
   "source": [
    "from pathlib import Path\n",
    "import numpy as np\n",
    "import matplotlib.pyplot as plt\n",
    "import os\n",
    "import mat73\n",
    "import scipy\n",
    "\n",
    "# assign directory\n",
    "directory = '/Volumes/Doraemon /BRDF 2021/recon_data_cubes'\n",
    "\n",
    "# iterate over files in\n",
    "# that directory\n",
    "files = Path(directory).glob('*')\n",
    "DOLP_list = []\n",
    "for file in files:\n",
    "    data = mat73.loadmat(file)\n",
    "    lambda_val = data['lambda']\n",
    "    s0 = data['S0int']\n",
    "    s1 = data['S1int']\n",
    "    s2 = data['S2int']\n",
    "\n",
    "    s0 , s1, s2 = s0[800:900,600:700,55],s1[800:900,600:700,55],s2[800:900,600:700,55]\n",
    "    LL=np.zeros([100,100])\n",
    "    DOLP = np.zeros([100,100])\n",
    "    for i in range(100):\n",
    "        for j in range(100):\n",
    "            if ~np.isnan(s1[i][j].all()) and ~np.isnan(s2[i][j].all()) and ~np.isnan(s0[i][j].all()) and s0[i][j]**2 >= s1[i][j]**2 + s2[i][j]**2:\n",
    "                LL[i][j] =np.sqrt(s1[i][j]**2+s2[i][j]**2)\n",
    "                DOLP[i][j] = LL[i][j]/s0[i][j]\n",
    "\n",
    "    DOLP = DOLP[~np.isnan(DOLP)]\n",
    "\n",
    "    AOP = 0.5 * np.arctan2(s0, s1)\n",
    "    circular_threshold = 0.99\n",
    "    mean_DOLP = np.mean(DOLP)\n",
    "    mean_AOP = np.mean(AOP)\n",
    "    DOLP_list.append(mean_DOLP)\n",
    "    print(f'DoLP for below image is {mean_DOLP}')\n",
    "    break"
   ]
  },
  {
   "cell_type": "code",
   "execution_count": null,
   "outputs": [],
   "source": [],
   "metadata": {
    "collapsed": false
   }
  }
 ],
 "metadata": {
  "kernelspec": {
   "display_name": "Python 3",
   "language": "python",
   "name": "python3"
  },
  "language_info": {
   "codemirror_mode": {
    "name": "ipython",
    "version": 2
   },
   "file_extension": ".py",
   "mimetype": "text/x-python",
   "name": "python",
   "nbconvert_exporter": "python",
   "pygments_lexer": "ipython2",
   "version": "2.7.6"
  }
 },
 "nbformat": 4,
 "nbformat_minor": 0
}
