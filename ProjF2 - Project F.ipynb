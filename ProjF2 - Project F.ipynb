{
 "cells": [
  {
   "cell_type": "markdown",
   "metadata": {
    "nbgrader": {
     "grade": false,
     "locked": true,
     "solution": false
    }
   },
   "source": [
    "## ProjF2 - Data Exploration\n",
    "\n",
    "Use this document as a template to provide some exploratory analysis of your data similar to the one in ProjC1. You are welcome to go in as much depth as needed.\n",
    "\n",
    "Make sure you keep the sections specified in this template, but you are welcome to add more cells with your code or explanation as needed."
   ]
  },
  {
   "cell_type": "code",
   "execution_count": 1,
   "metadata": {
    "nbgrader": {
     "grade": false,
     "locked": true,
     "solution": false
    },
    "ExecuteTime": {
     "start_time": "2024-03-20T19:08:31.258804Z",
     "end_time": "2024-03-20T19:08:32.760334Z"
    }
   },
   "outputs": [
    {
     "name": "stdout",
     "output_type": "stream",
     "text": [
      "Intel MKL WARNING: Support of Intel(R) Streaming SIMD Extensions 4.2 (Intel(R) SSE4.2) enabled only processors has been deprecated. Intel oneAPI Math Kernel Library 2025.0 will require Intel(R) Advanced Vector Extensions (Intel(R) AVX) instructions.\n",
      "Intel MKL WARNING: Support of Intel(R) Streaming SIMD Extensions 4.2 (Intel(R) SSE4.2) enabled only processors has been deprecated. Intel oneAPI Math Kernel Library 2025.0 will require Intel(R) Advanced Vector Extensions (Intel(R) AVX) instructions.\n"
     ]
    }
   ],
   "source": [
    "import numpy as np\n",
    "import matplotlib.pyplot as plt"
   ]
  },
  {
   "cell_type": "markdown",
   "metadata": {
    "nbgrader": {
     "grade": false,
     "locked": true,
     "solution": false
    }
   },
   "source": [
    "### 1. Load and Visualize Data\n",
    "\n",
    "Let's start by loading your entire dataset or a sample if it is a larger dataset."
   ]
  },
  {
   "cell_type": "code",
   "execution_count": 147,
   "metadata": {
    "nbgrader": {
     "grade": false,
     "locked": true,
     "solution": false
    },
    "ExecuteTime": {
     "start_time": "2024-03-22T16:23:46.894652Z",
     "end_time": "2024-03-22T16:24:49.008785Z"
    }
   },
   "outputs": [
    {
     "name": "stdout",
     "output_type": "stream",
     "text": [
      "{'Nframes': array(2900.), 'S0int': array([[[21919, 21642, 20554, ...,     0,     0,     0],\n",
      "        [21413, 21861, 20329, ...,     0,     0,     0],\n",
      "        [22039, 23091, 21793, ...,     0,     0,     0],\n",
      "        ...,\n",
      "        [ 5341,  5212,  5434, ...,     0,     0,     0],\n",
      "        [ 5119,  4639,  4359, ...,     0,     0,     0],\n",
      "        [12117, 12314, 12932, ...,     0,     0,     0]],\n",
      "\n",
      "       [[21801, 21084, 19981, ...,     0,     0,     0],\n",
      "        [21320, 21587, 20195, ...,     0,     0,     0],\n",
      "        [22607, 22912, 21069, ...,     0,     0,     0],\n",
      "        ...,\n",
      "        [ 5270,  5126,  5394, ...,     0,     0,     0],\n",
      "        [ 4801,  4611,  4536, ...,     0,     0,     0],\n",
      "        [ 9896, 10632, 10685, ...,     0,     0,     0]],\n",
      "\n",
      "       [[21829, 20500, 19987, ...,     0,     0,     0],\n",
      "        [22243, 21396, 20173, ...,     0,     0,     0],\n",
      "        [22891, 22184, 20725, ...,     0,     0,     0],\n",
      "        ...,\n",
      "        [ 5099,  5096,  5078, ...,     0,     0,     0],\n",
      "        [ 4471,  4530,  4666, ...,     0,     0,     0],\n",
      "        [ 8266,  9172,  8873, ...,     0,     0,     0]],\n",
      "\n",
      "       ...,\n",
      "\n",
      "       [[ 7760,  8039,  7620, ...,   433,   415,   392],\n",
      "        [ 8262,  7527,  7573, ...,   475,   443,   414],\n",
      "        [ 7792,  7438,  7534, ...,   442,   426,   422],\n",
      "        ...,\n",
      "        [ 5470,  5040,  4987, ...,   371,   355,   338],\n",
      "        [ 5063,  5400,  4672, ...,   406,   378,   331],\n",
      "        [ 5775,  5280,  5290, ...,   385,   350,   314]],\n",
      "\n",
      "       [[ 7680,  8059,  7674, ...,   440,   432,   404],\n",
      "        [ 8098,  7407,  7739, ...,   463,   436,   403],\n",
      "        [ 7854,  7689,  7767, ...,   444,   428,   412],\n",
      "        ...,\n",
      "        [ 5591,  4975,  4919, ...,   342,   332,   320],\n",
      "        [ 5134,  5480,  4701, ...,   408,   388,   327],\n",
      "        [ 5690,  5505,  5244, ...,   388,   354,   316]],\n",
      "\n",
      "       [[    0,     0,     0, ...,     0,     0,     0],\n",
      "        [    0,     0,     0, ...,     0,     0,     0],\n",
      "        [    0,     0,     0, ...,     0,     0,     0],\n",
      "        ...,\n",
      "        [    0,     0,     0, ...,     0,     0,     0],\n",
      "        [    0,     0,     0, ...,     0,     0,     0],\n",
      "        [    0,     0,     0, ...,     0,     0,     0]]], dtype=uint16), 'S1int': array([[[  2795,   2933,   2517, ...,      0,      0,      0],\n",
      "        [  2545,   2915,   3450, ...,      0,      0,      0],\n",
      "        [  3247,   3075,   2964, ...,      0,      0,      0],\n",
      "        ...,\n",
      "        [ -2492,  -2344,  -2131, ...,      0,      0,      0],\n",
      "        [ -1419,   -736,  -3030, ...,      0,      0,      0],\n",
      "        [   743,   -792,     16, ...,      0,      0,      0]],\n",
      "\n",
      "       [[  3715,   3177,   3218, ...,      0,      0,      0],\n",
      "        [  3215,   3232,   3553, ...,      0,      0,      0],\n",
      "        [  3767,   3833,   3934, ...,      0,      0,      0],\n",
      "        ...,\n",
      "        [ -1448,  -2140,  -2631, ...,      0,      0,      0],\n",
      "        [ -1350,  -1141,  -2860, ...,      0,      0,      0],\n",
      "        [   602,  -1621,    436, ...,      0,      0,      0]],\n",
      "\n",
      "       [[  3990,   3315,   3548, ...,      0,      0,      0],\n",
      "        [  3787,   3673,   3632, ...,      0,      0,      0],\n",
      "        [  3921,   4282,   4107, ...,      0,      0,      0],\n",
      "        ...,\n",
      "        [ -1028,  -3059,  -2120, ...,      0,      0,      0],\n",
      "        [ -3279,  -2872,  -2748, ...,      0,      0,      0],\n",
      "        [   300,  -2415,    530, ...,      0,      0,      0]],\n",
      "\n",
      "       ...,\n",
      "\n",
      "       [[ -2830,  -4027,  -3687, ..., -29151, -16377,  -8654],\n",
      "        [ -3664,  -4713,  -3585, ...,  -9942,   3197,   7725],\n",
      "        [ -1831,  -2680,  -4748, ...,   8353,   8338,  15996],\n",
      "        ...,\n",
      "        [ -4276,  -2887,  -3954, ...,  32767,  32498,  29200],\n",
      "        [ -3053,  -2596,  -4184, ...,  15113,  31697,  30326],\n",
      "        [ -2503,  -2165,  -3843, ...,  -8386,   4721,   9461]],\n",
      "\n",
      "       [[ -3495,  -3253,  -3388, ..., -12655,   1085,   8929],\n",
      "        [ -3964,  -4350,  -3216, ...,   5890,  24856,  13817],\n",
      "        [ -2419,  -2721,  -4479, ...,  21616,  29642,  28510],\n",
      "        ...,\n",
      "        [ -4222,  -3055,  -4398, ...,  32767,  31649,  13396],\n",
      "        [ -4365,  -2972,  -3241, ...,  24355,  32767,  32767],\n",
      "        [ -3187,  -3240,  -4061, ...,   4341,   7986, -11757]],\n",
      "\n",
      "       [[     0,      0,      0, ...,      0,      0,      0],\n",
      "        [     0,      0,      0, ...,      0,      0,      0],\n",
      "        [     0,      0,      0, ...,      0,      0,      0],\n",
      "        ...,\n",
      "        [     0,      0,      0, ...,      0,      0,      0],\n",
      "        [     0,      0,      0, ...,      0,      0,      0],\n",
      "        [     0,      0,      0, ...,      0,      0,      0]]],\n",
      "      dtype=int16), 'S2int': array([[[  1375,   1809,   1615, ...,      0,      0,      0],\n",
      "        [   647,   1025,   3134, ...,      0,      0,      0],\n",
      "        [  1737,   2263,   2471, ...,      0,      0,      0],\n",
      "        ...,\n",
      "        [  -839,  -2909,   -157, ...,      0,      0,      0],\n",
      "        [ -5174,   -331,  -4351, ...,      0,      0,      0],\n",
      "        [  1270,   4527,   2399, ...,      0,      0,      0]],\n",
      "\n",
      "       [[  1740,   2410,   1637, ...,      0,      0,      0],\n",
      "        [   532,    376,   3115, ...,      0,      0,      0],\n",
      "        [  2108,   2425,   2447, ...,      0,      0,      0],\n",
      "        ...,\n",
      "        [  -952,  -1881,  -1930, ...,      0,      0,      0],\n",
      "        [ -5083,  -2772,  -2501, ...,      0,      0,      0],\n",
      "        [  2120,   3619,   2248, ...,      0,      0,      0]],\n",
      "\n",
      "       [[  1941,   3262,   1921, ...,      0,      0,      0],\n",
      "        [  1187,   1524,   3322, ...,      0,      0,      0],\n",
      "        [  2734,   2843,   2905, ...,      0,      0,      0],\n",
      "        ...,\n",
      "        [ -2496,  -1642,  -2346, ...,      0,      0,      0],\n",
      "        [ -4916,  -3211,   -794, ...,      0,      0,      0],\n",
      "        [  2466,   1848,   2239, ...,      0,      0,      0]],\n",
      "\n",
      "       ...,\n",
      "\n",
      "       [[  8275,   9669,  10168, ...,  32767,  29592,  30092],\n",
      "        [ 10569,   7551,   8694, ...,  -9146, -20039, -21783],\n",
      "        [  9329,   8818,   8387, ...,  10466,   4601,  -7518],\n",
      "        ...,\n",
      "        [  4068,   3239,   3602, ...,    483,  24462,  30461],\n",
      "        [  3842,   2912,    852, ...,  14357,   4211,  -5671],\n",
      "        [  4816,   3472,   3108, ..., -15772,   2877,  23216]],\n",
      "\n",
      "       [[  8208,   8904,  10771, ...,  24261,  17739,  14766],\n",
      "        [  9255,   6323,   8140, ...,  -1451, -16745, -29956],\n",
      "        [  9752,   9598,   7819, ...,  20934,  15420,    409],\n",
      "        ...,\n",
      "        [  3685,   1415,   3897, ..., -32768, -15241,  15757],\n",
      "        [  3848,   2814,     -4, ...,  22892,  -7880, -26795],\n",
      "        [  3964,   3765,   1916, ..., -32768, -30200, -12823]],\n",
      "\n",
      "       [[     0,      0,      0, ...,      0,      0,      0],\n",
      "        [     0,      0,      0, ...,      0,      0,      0],\n",
      "        [     0,      0,      0, ...,      0,      0,      0],\n",
      "        ...,\n",
      "        [     0,      0,      0, ...,      0,      0,      0],\n",
      "        [     0,      0,      0, ...,      0,      0,      0],\n",
      "        [     0,      0,      0, ...,      0,      0,      0]]],\n",
      "      dtype=int16), 'lambda': array([475.        , 476.80722892, 478.61445783, 480.42168675,\n",
      "       482.22891566, 484.03614458, 485.84337349, 487.65060241,\n",
      "       489.45783133, 491.26506024, 493.07228916, 494.87951807,\n",
      "       496.68674699, 498.4939759 , 500.30120482, 502.10843373,\n",
      "       503.91566265, 505.72289157, 507.53012048, 509.3373494 ,\n",
      "       511.14457831, 512.95180723, 514.75903614, 516.56626506,\n",
      "       518.37349398, 520.18072289, 521.98795181, 523.79518072,\n",
      "       525.60240964, 527.40963855, 529.21686747, 531.02409639,\n",
      "       532.8313253 , 534.63855422, 536.44578313, 538.25301205,\n",
      "       540.06024096, 541.86746988, 543.6746988 , 545.48192771,\n",
      "       547.28915663, 549.09638554, 550.90361446, 552.71084337,\n",
      "       554.51807229, 556.3253012 , 558.13253012, 559.93975904,\n",
      "       561.74698795, 563.55421687, 565.36144578, 567.1686747 ,\n",
      "       568.97590361, 570.78313253, 572.59036145, 574.39759036,\n",
      "       576.20481928, 578.01204819, 579.81927711, 581.62650602,\n",
      "       583.43373494, 585.24096386, 587.04819277, 588.85542169,\n",
      "       590.6626506 , 592.46987952, 594.27710843, 596.08433735,\n",
      "       597.89156627, 599.69879518, 601.5060241 , 603.31325301,\n",
      "       605.12048193, 606.92771084, 608.73493976, 610.54216867,\n",
      "       612.34939759, 614.15662651, 615.96385542, 617.77108434,\n",
      "       619.57831325, 621.38554217, 623.19277108, 625.        ,\n",
      "       626.80722892, 628.61445783, 630.42168675, 632.22891566,\n",
      "       634.03614458, 635.84337349, 637.65060241, 639.45783133,\n",
      "       641.26506024, 643.07228916, 644.87951807, 646.68674699,\n",
      "       648.4939759 , 650.30120482, 652.10843373, 653.91566265,\n",
      "       655.72289157, 657.53012048, 659.3373494 , 661.14457831,\n",
      "       662.95180723, 664.75903614, 666.56626506, 668.37349398,\n",
      "       670.18072289, 671.98795181, 673.79518072, 675.60240964,\n",
      "       677.40963855, 679.21686747, 681.02409639, 682.8313253 ,\n",
      "       684.63855422, 686.44578313, 688.25301205, 690.06024096,\n",
      "       691.86746988, 693.6746988 , 695.48192771, 697.28915663,\n",
      "       699.09638554, 700.90361446, 702.71084337, 704.51807229,\n",
      "       706.3253012 , 708.13253012, 709.93975904, 711.74698795,\n",
      "       713.55421687, 715.36144578, 717.1686747 , 718.97590361,\n",
      "       720.78313253, 722.59036145, 724.39759036, 726.20481928,\n",
      "       728.01204819, 729.81927711, 731.62650602, 733.43373494,\n",
      "       735.24096386, 737.04819277, 738.85542169, 740.6626506 ,\n",
      "       742.46987952, 744.27710843, 746.08433735, 747.89156627,\n",
      "       749.69879518, 751.5060241 , 753.31325301, 755.12048193,\n",
      "       756.92771084, 758.73493976, 760.54216867, 762.34939759,\n",
      "       764.15662651, 765.96385542, 767.77108434, 769.57831325,\n",
      "       771.38554217, 773.19277108, 775.        , 776.80722892,\n",
      "       778.61445783, 780.42168675, 782.22891566, 784.03614458,\n",
      "       785.84337349, 787.65060241, 789.45783133, 791.26506024,\n",
      "       793.07228916, 794.87951807, 796.68674699, 798.4939759 ,\n",
      "       800.30120482, 802.10843373, 803.91566265, 805.72289157,\n",
      "       807.53012048, 809.3373494 , 811.14457831, 812.95180723,\n",
      "       814.75903614, 816.56626506, 818.37349398, 820.18072289,\n",
      "       821.98795181, 823.79518072, 825.60240964, 827.40963855,\n",
      "       829.21686747, 831.02409639, 832.8313253 , 834.63855422,\n",
      "       836.44578313, 838.25301205, 840.06024096, 841.86746988,\n",
      "       843.6746988 , 845.48192771, 847.28915663, 849.09638554,\n",
      "       850.90361446, 852.71084337, 854.51807229, 856.3253012 ,\n",
      "       858.13253012, 859.93975904, 861.74698795, 863.55421687,\n",
      "       865.36144578, 867.1686747 , 868.97590361, 870.78313253,\n",
      "       872.59036145, 874.39759036, 876.20481928, 878.01204819,\n",
      "       879.81927711, 881.62650602, 883.43373494, 885.24096386,\n",
      "       887.04819277, 888.85542169, 890.6626506 , 892.46987952,\n",
      "       894.27710843, 896.08433735, 897.89156627, 899.69879518,\n",
      "       901.5060241 , 903.31325301, 905.12048193, 906.92771084,\n",
      "       908.73493976, 910.54216867, 912.34939759, 914.15662651,\n",
      "       915.96385542, 917.77108434, 919.57831325, 921.38554217,\n",
      "       923.19277108, 925.        ]), 'normval_S0': array(3.950313, dtype=float32), 'normval_S1S2': array(2.)}\n",
      "(950, 2900, 250)\n"
     ]
    }
   ],
   "source": [
    "import mat73\n",
    "# mat = mat73.loadmat('/Users/mayur/Downloads/20200627_0942.mat')\n",
    "\n",
    "\n",
    "\n",
    "import scipy.io\n",
    "import numpy as np\n",
    "import matplotlib.pyplot as plt\n",
    "\n",
    "\n",
    "import py7zr\n",
    "\n",
    "archive = py7zr.SevenZipFile('/Users/mayur/Downloads/20200706_1015.zstd.7z', mode='r')\n",
    "archive.extractall(path=\"/Users/mayur/Downloads/\")\n",
    "archive.close()\n",
    "# Load the MATLAB file\n",
    "data = mat73.loadmat('/Users/mayur/Downloads/20200706_1015.mat')\n",
    "print(data)\n",
    "# x = data['x']\n",
    "# y = data['y']\n",
    "lambda_val = data['lambda']\n",
    "s0 = data['S0int']\n",
    "s1 = data['S1int']\n",
    "s2 = data['S2int']\n",
    "# print(s)\n",
    "\n",
    "# Extract a specific wavelength slice (e.g., the first wavelength)\n",
    "s0_slice = s0[:,:,0]\n",
    "print(s0.shape)\n",
    "\n"
   ]
  },
  {
   "cell_type": "code",
   "execution_count": 144,
   "outputs": [
    {
     "name": "stdout",
     "output_type": "stream",
     "text": [
      "Condition s02 ≥ s12 + s22 + s32 is not met.\n",
      "(100, 100)\n"
     ]
    },
    {
     "name": "stderr",
     "output_type": "stream",
     "text": [
      "/var/folders/8t/cg46ygc52xq8ts0rysyjhfn40000gn/T/ipykernel_3561/3135231120.py:8: RuntimeWarning: invalid value encountered in sqrt\n",
      "  s_n = np.sqrt(s1**2 + s2**2)\n"
     ]
    }
   ],
   "source": [
    "s0 , s1, s2 = s0[800:900,600:700,55],s1[800:900,600:700,55],s2[800:900,600:700,55]\n",
    "LL=np.zeros([100,100])\n",
    "DOLP = np.zeros([100,100])\n",
    "\n",
    "\n",
    "S0_normalized = np.ones_like(s0)\n",
    "\n",
    "s_n = np.sqrt(s1**2 + s2**2)\n",
    "\n",
    "# Normalize S1, S2, S3\n",
    "s1_norm = s1 / s_n\n",
    "s2_norm = s2 / s_n\n",
    "# s0_norm = s0 / s0\n",
    "\n",
    "# Clip the normalized values to ensure they fall within the range [-1, 1]\n",
    "s1_normalized = np.clip(s1_norm, -1, 1)\n",
    "s2_normalized = np.clip(s2_norm, -1, 1)\n",
    "\n",
    "\n",
    "condition_met = (S0_normalized**2 >= s1_normalized**2 + s2_normalized**2 ).all()\n",
    "\n",
    "# Display the result\n",
    "if condition_met:\n",
    "    print(\"Condition s02 ≥ s12 + s22 + s32 is met.\")\n",
    "else:\n",
    "    print(\"Condition s02 ≥ s12 + s22 + s32 is not met.\")\n",
    "print(s0.shape)"
   ],
   "metadata": {
    "collapsed": false,
    "ExecuteTime": {
     "start_time": "2024-03-22T16:22:16.005912Z",
     "end_time": "2024-03-22T16:22:16.154370Z"
    }
   }
  },
  {
   "cell_type": "code",
   "execution_count": 145,
   "outputs": [
    {
     "name": "stdout",
     "output_type": "stream",
     "text": [
      "(100, 100) shapee (100, 100)\n",
      "(10000,)\n"
     ]
    }
   ],
   "source": [
    "# s0_position = s0[0,0,:]\n",
    "#\n",
    "# # Calculate mean intensity across all wavelengths at each spatial position\n",
    "# mean_intensity = np.mean(s0, axis=2)\n",
    "#\n",
    "# Visualize a specific wavelength slice\n",
    "# plt.imshow(s0_slice)\n",
    "# plt.colorbar()\n",
    "# plt.title('Specific Wavelength Slice')\n",
    "# plt.show()\n",
    "# print(s1.shape)\n",
    "\n",
    "# s0_normalized = np.clip(s0_norm, -1, 1)\n",
    "\n",
    "\n",
    "\n",
    "\n",
    "for i in range(100):\n",
    "    for j in range(100):\n",
    "        if ~np.isnan(s1[i][j].all()) and ~np.isnan(s2[i][j].all()) and ~np.isnan(s0[i][j].all()) and s0[i][j]**2 >= s1[i][j]**2 + s2[i][j]**2:\n",
    "                LL[i][j] =np.sqrt(s1[i][j]**2+s2[i][j]**2)\n",
    "                DOLP[i][j] = LL[i][j]/s0[i][j]\n",
    "\n",
    "\n",
    "print(LL.shape,\"shapee\",s0.shape)\n",
    "\n",
    "# print(s2[~np.isnan(s2)]**2,\"555555\")\n",
    "# V = LL[~np.isnan(LL)]\n",
    "# print(V,\"**************\")\n",
    "\n",
    "# Calculate angle of polarization (AOP)\n",
    "print(DOLP[~np.isnan(DOLP)].shape)\n",
    "DOLP = DOLP[~np.isnan(DOLP)]"
   ],
   "metadata": {
    "collapsed": false,
    "ExecuteTime": {
     "start_time": "2024-03-22T16:22:19.252507Z",
     "end_time": "2024-03-22T16:22:19.460715Z"
    }
   }
  },
  {
   "cell_type": "code",
   "execution_count": 146,
   "outputs": [
    {
     "name": "stdout",
     "output_type": "stream",
     "text": [
      "(10000,)\n",
      "0.1953764616599019 -- 0.38459736\n",
      "Predominant polarization state: Linear or Elliptical\n"
     ]
    }
   ],
   "source": [
    "# DOLP = DOLP[~np.isnan(DOLP)]\n",
    "AOP = 0.5 * np.arctan2(s0, s1)\n",
    "print(DOLP.shape)\n",
    "\n",
    "circular_threshold = 0.99  # Adjust as needed based on your requirements\n",
    "\n",
    "# Calculate statistics for DOLP and AOP across the entire image\n",
    "mean_DOLP = np.mean(DOLP)\n",
    "mean_AOP = np.mean(AOP)\n",
    "print(mean_DOLP,\"--\",mean_AOP)\n",
    "polarization_state = \"\"\n",
    "if mean_DOLP <= circular_threshold:\n",
    "    # Circular polarization\n",
    "    polarization_state = \"Circular\"\n",
    "elif mean_DOLP < 1:\n",
    "    # Linear or elliptical polarizat\\ion\n",
    "    polarization_state = \"Linear or Elliptical\"\n",
    "\n",
    "# Print the predominant polarization state\n",
    "print(\"Predominant polarization state:\", polarization_state)\n",
    "\n"
   ],
   "metadata": {
    "collapsed": false,
    "ExecuteTime": {
     "start_time": "2024-03-22T16:22:21.294148Z",
     "end_time": "2024-03-22T16:22:21.344622Z"
    }
   }
  },
  {
   "cell_type": "code",
   "execution_count": 80,
   "outputs": [
    {
     "name": "stdout",
     "output_type": "stream",
     "text": [
      "1048\n"
     ]
    }
   ],
   "source": [
    "print(np.amax(s2))\n",
    "# LL = np.sqrt(s1[~np.isnan(s1)]**2+ s2[~np.isnan(s2)]**2)\n",
    "# # print(s2[~np.isnan(s2)]**2,\"555555\")\n",
    "# V = LL[~np.isnan(LL)]\n",
    "# print(V)\n",
    "# # DOLP = V / s0[~np.isnan(s0)]\n",
    "# mean_DOLP = np.mean(DOLP)\n",
    "# # mean_AOP = np.mean(AOP)\n",
    "# print(mean_DOLP)"
   ],
   "metadata": {
    "collapsed": false,
    "ExecuteTime": {
     "start_time": "2024-03-22T13:57:03.538815Z",
     "end_time": "2024-03-22T13:57:03.544900Z"
    }
   }
  },
  {
   "cell_type": "code",
   "execution_count": 13,
   "outputs": [
    {
     "ename": "KeyError",
     "evalue": "'x'",
     "output_type": "error",
     "traceback": [
      "\u001B[0;31m---------------------------------------------------------------------------\u001B[0m",
      "\u001B[0;31mKeyError\u001B[0m                                  Traceback (most recent call last)",
      "Cell \u001B[0;32mIn[13], line 2\u001B[0m\n\u001B[1;32m      1\u001B[0m data \u001B[38;5;241m=\u001B[39m mat73\u001B[38;5;241m.\u001B[39mloadmat(\u001B[38;5;124m'\u001B[39m\u001B[38;5;124m/Users/mayur/Downloads/20200627_0942.mat\u001B[39m\u001B[38;5;124m'\u001B[39m)\n\u001B[0;32m----> 2\u001B[0m x \u001B[38;5;241m=\u001B[39m \u001B[43mdata\u001B[49m\u001B[43m[\u001B[49m\u001B[38;5;124;43m'\u001B[39;49m\u001B[38;5;124;43mx\u001B[39;49m\u001B[38;5;124;43m'\u001B[39;49m\u001B[43m]\u001B[49m\n\u001B[1;32m      3\u001B[0m y \u001B[38;5;241m=\u001B[39m data[\u001B[38;5;124m'\u001B[39m\u001B[38;5;124my\u001B[39m\u001B[38;5;124m'\u001B[39m]\n\u001B[1;32m      4\u001B[0m lambda_val \u001B[38;5;241m=\u001B[39m data[\u001B[38;5;124m'\u001B[39m\u001B[38;5;124mlambda\u001B[39m\u001B[38;5;124m'\u001B[39m]\n",
      "\u001B[0;31mKeyError\u001B[0m: 'x'"
     ]
    }
   ],
   "source": [
    "data = mat73.loadmat('/Users/mayur/Downloads/20200706_1015.mat')\n",
    "\n",
    "lambda_val = data['lambda']\n",
    "s0 = data['S0int']\n",
    "s1 = data['S1int']\n",
    "s2 = data['S2int']\n",
    "# print(s)\n",
    "\n",
    "\n",
    "print(DOLP.shape)\n",
    "print(DOLP)\n",
    "print(s1.shape)"
   ],
   "metadata": {
    "collapsed": false,
    "ExecuteTime": {
     "start_time": "2024-03-21T22:12:42.544190Z",
     "end_time": "2024-03-21T22:12:42.556673Z"
    }
   }
  },
  {
   "cell_type": "markdown",
   "metadata": {
    "nbgrader": {
     "grade": false,
     "locked": true,
     "solution": false
    }
   },
   "source": [
    "Provide some visualization of the data. For example,\n",
    "- If your data is time series, you can plot a sequence and the response or label.\n",
    "- If tabular data, you can plot histograms of the data.\n",
    "- If working with image recognition or segmentation, you can show an image and the corresponding output.\n",
    "- If it is a video that you are processing, just show screenshots.\n",
    "- If doing something with reinforcement learning, you can provide samples of the simulation environment used."
   ]
  },
  {
   "cell_type": "code",
   "execution_count": 3,
   "metadata": {
    "nbgrader": {
     "grade": false,
     "locked": true,
     "solution": false
    }
   },
   "outputs": [],
   "source": [
    "### YOUR CODE HERE"
   ]
  },
  {
   "cell_type": "markdown",
   "metadata": {},
   "source": [
    "### 2. Compute Some Statistics from your Data\n",
    "\n",
    "First, extract some characterisitics about the input (e.g., image size, means and standard deviation of values, sample frequency)."
   ]
  },
  {
   "cell_type": "code",
   "execution_count": 4,
   "metadata": {},
   "outputs": [],
   "source": [
    "### YOUR CODE HERE"
   ]
  },
  {
   "cell_type": "markdown",
   "metadata": {
    "nbgrader": {
     "grade": false,
     "locked": true,
     "solution": false
    }
   },
   "source": [
    "Next, provide some characteristics about your output (e.g., histograms, spatial distribution of bounding boxes in the case of object detection, etc.). In the case of cases such as tasks such as reinforcement learning, you can provide details about the desired output and rewards used. You can show some correlations between inputs and outputs if possible."
   ]
  },
  {
   "cell_type": "code",
   "execution_count": 5,
   "metadata": {
    "nbgrader": {
     "grade": false,
     "locked": true,
     "solution": false
    }
   },
   "outputs": [],
   "source": [
    "### YOUR CODE HERE"
   ]
  },
  {
   "cell_type": "markdown",
   "metadata": {
    "nbgrader": {
     "grade": false,
     "locked": true,
     "solution": false
    }
   },
   "source": [
    "### 3. Comment on Your Data\n",
    "\n",
    "Answer these questions as appropriate?\n",
    "- Is your data balanced?\n",
    "- Are there disparities in your input data? Does it show some specific patterns?"
   ]
  },
  {
   "cell_type": "markdown",
   "metadata": {},
   "source": [
    "`### Comment here`"
   ]
  }
 ],
 "metadata": {
  "kernelspec": {
   "display_name": "Python 3 [3.10]",
   "language": "python",
   "name": "python3"
  },
  "language_info": {
   "codemirror_mode": {
    "name": "ipython",
    "version": 3
   },
   "file_extension": ".py",
   "mimetype": "text/x-python",
   "name": "python",
   "nbconvert_exporter": "python",
   "pygments_lexer": "ipython3",
   "version": "3.9.13"
  }
 },
 "nbformat": 4,
 "nbformat_minor": 2
}
